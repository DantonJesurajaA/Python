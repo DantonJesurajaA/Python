{
 "cells": [
  {
   "cell_type": "code",
   "execution_count": 1,
   "id": "19f4b1d1",
   "metadata": {},
   "outputs": [
    {
     "name": "stdout",
     "output_type": "stream",
     "text": [
      "Hello World\n"
     ]
    }
   ],
   "source": [
    "print('Hello World')"
   ]
  },
  {
   "cell_type": "code",
   "execution_count": 2,
   "id": "3cf8a2b2",
   "metadata": {},
   "outputs": [
    {
     "name": "stdout",
     "output_type": "stream",
     "text": [
      "5\n"
     ]
    },
    {
     "ename": "NameError",
     "evalue": "name 'd' is not defined",
     "output_type": "error",
     "traceback": [
      "\u001b[1;31m---------------------------------------------------------------------------\u001b[0m",
      "\u001b[1;31mNameError\u001b[0m                                 Traceback (most recent call last)",
      "\u001b[1;32m<ipython-input-2-ba7a63fafc3f>\u001b[0m in \u001b[0;36m<module>\u001b[1;34m\u001b[0m\n\u001b[0;32m      3\u001b[0m \u001b[0mc\u001b[0m\u001b[1;33m=\u001b[0m\u001b[0ma\u001b[0m\u001b[1;33m+\u001b[0m\u001b[0mb\u001b[0m\u001b[1;33m\u001b[0m\u001b[1;33m\u001b[0m\u001b[0m\n\u001b[0;32m      4\u001b[0m \u001b[0mprint\u001b[0m\u001b[1;33m(\u001b[0m\u001b[0mc\u001b[0m\u001b[1;33m)\u001b[0m\u001b[1;33m\u001b[0m\u001b[1;33m\u001b[0m\u001b[0m\n\u001b[1;32m----> 5\u001b[1;33m \u001b[0mprint\u001b[0m\u001b[1;33m(\u001b[0m\u001b[0md\u001b[0m\u001b[1;33m)\u001b[0m\u001b[1;33m\u001b[0m\u001b[1;33m\u001b[0m\u001b[0m\n\u001b[0m",
      "\u001b[1;31mNameError\u001b[0m: name 'd' is not defined"
     ]
    }
   ],
   "source": [
    "a=3\n",
    "b=2\n",
    "c=a+b\n",
    "print(c)\n",
    "print(d)"
   ]
  },
  {
   "cell_type": "markdown",
   "id": "4913e7e2",
   "metadata": {},
   "source": [
    "## Variables and Datatypes\n",
    "\n",
    "Variables are storage spaces for our data"
   ]
  },
  {
   "cell_type": "markdown",
   "id": "07d0af0f",
   "metadata": {},
   "source": [
    "1. integer\n",
    "2. float\n",
    "3. boolean\n",
    "4. string\n",
    "\n",
    "1. List\n",
    "2. Tuple\n",
    "3. Set\n",
    "4. Dictionary"
   ]
  },
  {
   "cell_type": "markdown",
   "id": "8e9b1200",
   "metadata": {},
   "source": [
    "Dynamic Memory/Datatype Allocation\n",
    "\n",
    "int a=5\n",
    "\n",
    "a=5 (int)\n",
    "\n",
    "a=5.0(float)"
   ]
  },
  {
   "cell_type": "code",
   "execution_count": 4,
   "id": "c2530654",
   "metadata": {},
   "outputs": [
    {
     "name": "stdout",
     "output_type": "stream",
     "text": [
      "2\n",
      "<class 'int'>\n"
     ]
    }
   ],
   "source": [
    "a=5\n",
    "b=2\n",
    "\n",
    "c=a//b\n",
    "\n",
    "print(c)\n",
    "print(type(c))"
   ]
  },
  {
   "cell_type": "markdown",
   "id": "3cacb25b",
   "metadata": {},
   "source": [
    "## String\n",
    "\n",
    "Collection of character/characters. "
   ]
  },
  {
   "cell_type": "code",
   "execution_count": 5,
   "id": "95132ec9",
   "metadata": {},
   "outputs": [],
   "source": [
    "str1='Danton'"
   ]
  },
  {
   "cell_type": "markdown",
   "id": "888d3408",
   "metadata": {},
   "source": [
    "1. lower() - Convert my entire string to lowercase\n",
    "2. upper() - Convert my entire string to uppercase\n",
    "3. islower() - Check if my entire string is lowercase (True/False)\n",
    "4. isupper() - Check if my entire string is uppercase\n",
    "5. index() - Return the index of the first occurence of the character\n",
    "6. capitalize() - First letter is changed to uppercase\n",
    "7. split() - It will split my string"
   ]
  },
  {
   "cell_type": "code",
   "execution_count": 6,
   "id": "29e06679",
   "metadata": {},
   "outputs": [
    {
     "data": {
      "text/plain": [
       "'danton'"
      ]
     },
     "execution_count": 6,
     "metadata": {},
     "output_type": "execute_result"
    }
   ],
   "source": [
    "str1.lower()"
   ]
  },
  {
   "cell_type": "code",
   "execution_count": 7,
   "id": "b9445e42",
   "metadata": {},
   "outputs": [
    {
     "data": {
      "text/plain": [
       "'Danton'"
      ]
     },
     "execution_count": 7,
     "metadata": {},
     "output_type": "execute_result"
    }
   ],
   "source": [
    "str1"
   ]
  },
  {
   "cell_type": "code",
   "execution_count": 8,
   "id": "4a8e611e",
   "metadata": {},
   "outputs": [
    {
     "data": {
      "text/plain": [
       "'DANTON'"
      ]
     },
     "execution_count": 8,
     "metadata": {},
     "output_type": "execute_result"
    }
   ],
   "source": [
    "str1.upper()"
   ]
  },
  {
   "cell_type": "code",
   "execution_count": 9,
   "id": "157764dc",
   "metadata": {},
   "outputs": [
    {
     "data": {
      "text/plain": [
       "False"
      ]
     },
     "execution_count": 9,
     "metadata": {},
     "output_type": "execute_result"
    }
   ],
   "source": [
    "str1.isupper()"
   ]
  },
  {
   "cell_type": "code",
   "execution_count": 10,
   "id": "ec6f4745",
   "metadata": {},
   "outputs": [],
   "source": [
    "str1=str1.lower()"
   ]
  },
  {
   "cell_type": "code",
   "execution_count": 11,
   "id": "4a502349",
   "metadata": {},
   "outputs": [
    {
     "data": {
      "text/plain": [
       "True"
      ]
     },
     "execution_count": 11,
     "metadata": {},
     "output_type": "execute_result"
    }
   ],
   "source": [
    "str1.islower()"
   ]
  },
  {
   "cell_type": "code",
   "execution_count": 12,
   "id": "aa2e36c8",
   "metadata": {},
   "outputs": [
    {
     "data": {
      "text/plain": [
       "1"
      ]
     },
     "execution_count": 12,
     "metadata": {},
     "output_type": "execute_result"
    }
   ],
   "source": [
    "str1.index('a')"
   ]
  },
  {
   "cell_type": "code",
   "execution_count": 13,
   "id": "4ba606cb",
   "metadata": {},
   "outputs": [
    {
     "data": {
      "text/plain": [
       "'danton'"
      ]
     },
     "execution_count": 13,
     "metadata": {},
     "output_type": "execute_result"
    }
   ],
   "source": [
    "str1"
   ]
  },
  {
   "cell_type": "code",
   "execution_count": 14,
   "id": "828eb976",
   "metadata": {},
   "outputs": [
    {
     "data": {
      "text/plain": [
       "'Danton'"
      ]
     },
     "execution_count": 14,
     "metadata": {},
     "output_type": "execute_result"
    }
   ],
   "source": [
    "str1.capitalize()"
   ]
  },
  {
   "cell_type": "markdown",
   "id": "9c779351",
   "metadata": {},
   "source": [
    "## Indexing \n",
    "\n",
    "To help with data fetching \n",
    "\n",
    "Slicing and Splitting\n",
    "\n",
    "Slicing - Creating/Removing a sub-string from a string"
   ]
  },
  {
   "cell_type": "code",
   "execution_count": 15,
   "id": "0f5d8b92",
   "metadata": {},
   "outputs": [
    {
     "data": {
      "text/plain": [
       "'danton'"
      ]
     },
     "execution_count": 15,
     "metadata": {},
     "output_type": "execute_result"
    }
   ],
   "source": [
    "str1"
   ]
  },
  {
   "cell_type": "markdown",
   "id": "4b0d2de4",
   "metadata": {},
   "source": [
    "## Slicing\n",
    "\n",
    "str1[x:y:z]  \n",
    "\n",
    "x-Starting index\n",
    "y-Ending index (Give one value extra)\n",
    "z-Increment\n"
   ]
  },
  {
   "cell_type": "code",
   "execution_count": 17,
   "id": "9371a79f",
   "metadata": {},
   "outputs": [
    {
     "data": {
      "text/plain": [
       "'ant'"
      ]
     },
     "execution_count": 17,
     "metadata": {},
     "output_type": "execute_result"
    }
   ],
   "source": [
    "str1[1:4]"
   ]
  },
  {
   "cell_type": "code",
   "execution_count": 18,
   "id": "52d6b774",
   "metadata": {},
   "outputs": [],
   "source": [
    "str2='My name is Danton'"
   ]
  },
  {
   "cell_type": "code",
   "execution_count": 19,
   "id": "949b8dc8",
   "metadata": {},
   "outputs": [
    {
     "data": {
      "text/plain": [
       "'name is'"
      ]
     },
     "execution_count": 19,
     "metadata": {},
     "output_type": "execute_result"
    }
   ],
   "source": [
    "str2[3:10]"
   ]
  },
  {
   "cell_type": "markdown",
   "id": "6caa02ba",
   "metadata": {},
   "source": [
    "## Splitting\n",
    "\n",
    "It will split a string based on a delimiter and store the different parts in a list"
   ]
  },
  {
   "cell_type": "code",
   "execution_count": 20,
   "id": "8812a76c",
   "metadata": {},
   "outputs": [
    {
     "data": {
      "text/plain": [
       "'My name is Danton'"
      ]
     },
     "execution_count": 20,
     "metadata": {},
     "output_type": "execute_result"
    }
   ],
   "source": [
    "str2"
   ]
  },
  {
   "cell_type": "code",
   "execution_count": 21,
   "id": "f8de95ce",
   "metadata": {},
   "outputs": [
    {
     "data": {
      "text/plain": [
       "['My', 'name', 'is', 'Danton']"
      ]
     },
     "execution_count": 21,
     "metadata": {},
     "output_type": "execute_result"
    }
   ],
   "source": [
    "str2.split()"
   ]
  },
  {
   "cell_type": "markdown",
   "id": "f5e49085",
   "metadata": {},
   "source": [
    "Ex of places where we might encounter different delimiters\n",
    "\n",
    "Tab - Excel file\n",
    "\n",
    "Comma - CSV 1,'Danton',27"
   ]
  },
  {
   "cell_type": "code",
   "execution_count": 22,
   "id": "197295b6",
   "metadata": {},
   "outputs": [],
   "source": [
    "str3='My,name,is,Danton'"
   ]
  },
  {
   "cell_type": "code",
   "execution_count": 24,
   "id": "7d37ef62",
   "metadata": {},
   "outputs": [
    {
     "data": {
      "text/plain": [
       "['My', 'name', 'is', 'Danton']"
      ]
     },
     "execution_count": 24,
     "metadata": {},
     "output_type": "execute_result"
    }
   ],
   "source": [
    "str3.split(',')"
   ]
  },
  {
   "cell_type": "markdown",
   "id": "7a56d920",
   "metadata": {},
   "source": [
    "## Negative Indexing"
   ]
  },
  {
   "cell_type": "code",
   "execution_count": 25,
   "id": "00eb59b8",
   "metadata": {},
   "outputs": [
    {
     "data": {
      "text/plain": [
       "'danton'"
      ]
     },
     "execution_count": 25,
     "metadata": {},
     "output_type": "execute_result"
    }
   ],
   "source": [
    "str1"
   ]
  },
  {
   "cell_type": "code",
   "execution_count": 26,
   "id": "c94fcbed",
   "metadata": {},
   "outputs": [
    {
     "data": {
      "text/plain": [
       "'o'"
      ]
     },
     "execution_count": 26,
     "metadata": {},
     "output_type": "execute_result"
    }
   ],
   "source": [
    "str1[-2]"
   ]
  },
  {
   "cell_type": "markdown",
   "id": "bc3950b5",
   "metadata": {},
   "source": [
    "## Getting input from User\n",
    "\n"
   ]
  },
  {
   "cell_type": "code",
   "execution_count": 28,
   "id": "940d9bc4",
   "metadata": {},
   "outputs": [
    {
     "name": "stdout",
     "output_type": "stream",
     "text": [
      "Enter email iddantonjesuraja@gmail.com\n",
      "dantonjesuraja@gmail.com\n"
     ]
    }
   ],
   "source": [
    "email=input('Enter email id')\n",
    "\n",
    "print(email)"
   ]
  },
  {
   "cell_type": "markdown",
   "id": "2daae1f9",
   "metadata": {},
   "source": [
    "# Questions for HW\n",
    "\n",
    "\n",
    "Qn1: Get an email as input from user. Slice the username out of the email\n",
    "\n",
    "Ex: dantonjesuraja.a@gmail.com O/P: dantonjesuraja.a\n",
    "shivkrish@gmail.com O/P: shivkrish\n",
    "\n",
    "Hint: You can solve it in 2 ways (Split, Slice)\n",
    "\n",
    "Qn2: Saravana O/P: Ravana"
   ]
  },
  {
   "cell_type": "code",
   "execution_count": 30,
   "id": "15f26029",
   "metadata": {},
   "outputs": [
    {
     "name": "stdout",
     "output_type": "stream",
     "text": [
      "Enter an emailshivkrish@gmail.com\n",
      "shivkrish\n"
     ]
    }
   ],
   "source": [
    "str1=input('Enter an email')\n",
    "\n",
    "op=str1[0:str1.index('@')]\n",
    "\n",
    "print(op)"
   ]
  },
  {
   "cell_type": "code",
   "execution_count": null,
   "id": "e3e4a9fa",
   "metadata": {},
   "outputs": [],
   "source": []
  }
 ],
 "metadata": {
  "kernelspec": {
   "display_name": "Python 3",
   "language": "python",
   "name": "python3"
  },
  "language_info": {
   "codemirror_mode": {
    "name": "ipython",
    "version": 3
   },
   "file_extension": ".py",
   "mimetype": "text/x-python",
   "name": "python",
   "nbconvert_exporter": "python",
   "pygments_lexer": "ipython3",
   "version": "3.8.8"
  }
 },
 "nbformat": 4,
 "nbformat_minor": 5
}
