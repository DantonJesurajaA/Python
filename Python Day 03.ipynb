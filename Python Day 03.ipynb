{
 "cells": [
  {
   "cell_type": "markdown",
   "id": "20c6e616",
   "metadata": {},
   "source": [
    "# Looping Statements\n",
    "\n",
    "Statements that execute a Block of code again and again either for a set number of times or until a condition statisfies"
   ]
  },
  {
   "cell_type": "markdown",
   "id": "a850727c",
   "metadata": {},
   "source": [
    "1. For - set number of times\n",
    "2. While - Until a condition satisfies"
   ]
  },
  {
   "cell_type": "markdown",
   "id": "f3bee1f0",
   "metadata": {},
   "source": [
    "## For Loop\n",
    "\n",
    "1. Using a list/string\n",
    "2. Using range function"
   ]
  },
  {
   "cell_type": "code",
   "execution_count": 1,
   "id": "2c9f1496",
   "metadata": {},
   "outputs": [
    {
     "name": "stdout",
     "output_type": "stream",
     "text": [
      "1\n",
      "2\n",
      "3\n",
      "4\n"
     ]
    }
   ],
   "source": [
    "l1= [1,2,3,4]\n",
    "\n",
    "for i in l1:\n",
    "    print(i)"
   ]
  },
  {
   "cell_type": "code",
   "execution_count": 3,
   "id": "76a20fea",
   "metadata": {},
   "outputs": [
    {
     "name": "stdout",
     "output_type": "stream",
     "text": [
      "0\n",
      "2\n",
      "4\n",
      "6\n",
      "8\n",
      "10\n"
     ]
    }
   ],
   "source": [
    "for i in range(0,11,2):\n",
    "    print(i)"
   ]
  },
  {
   "cell_type": "markdown",
   "id": "a1daeba3",
   "metadata": {},
   "source": [
    "## While Loop\n",
    "\n",
    "Executes a set of statements until a condition satisfies"
   ]
  },
  {
   "cell_type": "code",
   "execution_count": 6,
   "id": "f12a2220",
   "metadata": {},
   "outputs": [
    {
     "name": "stdout",
     "output_type": "stream",
     "text": [
      "5\n",
      "4\n",
      "3\n",
      "2\n",
      "1\n"
     ]
    }
   ],
   "source": [
    "num1=5\n",
    "\n",
    "while(num1>0):\n",
    "    print(num1)\n",
    "    num1-=1"
   ]
  },
  {
   "cell_type": "markdown",
   "id": "907cc81e",
   "metadata": {},
   "source": [
    "## Break Continue and Pass\n",
    "\n",
    "Break - When a condition satisfies break the loop \n",
    "\n",
    "Continue - When a condition satisfies continue with the loop\n",
    "\n",
    "Pass"
   ]
  },
  {
   "cell_type": "code",
   "execution_count": 8,
   "id": "204d3f7c",
   "metadata": {},
   "outputs": [
    {
     "name": "stdout",
     "output_type": "stream",
     "text": [
      "5\n",
      "4\n"
     ]
    }
   ],
   "source": [
    "num2=5\n",
    "\n",
    "while(num2>0):\n",
    "    if(num2==3):\n",
    "        break\n",
    "    print(num2)\n",
    "    num2-=1"
   ]
  },
  {
   "cell_type": "code",
   "execution_count": 12,
   "id": "2e33a794",
   "metadata": {},
   "outputs": [
    {
     "name": "stdout",
     "output_type": "stream",
     "text": [
      "1\n",
      "2\n",
      "3\n",
      "4\n",
      "6\n",
      "7\n",
      "8\n",
      "9\n"
     ]
    }
   ],
   "source": [
    "for i in range(1,10):\n",
    "    if(i==5):\n",
    "        continue\n",
    "    print(i)"
   ]
  },
  {
   "cell_type": "code",
   "execution_count": 13,
   "id": "2057e52d",
   "metadata": {},
   "outputs": [
    {
     "name": "stdout",
     "output_type": "stream",
     "text": [
      "1\n",
      "2\n",
      "3\n",
      "4\n"
     ]
    }
   ],
   "source": [
    "for i in range(1,10):\n",
    "    if(i==5):\n",
    "        break\n",
    "    print(i)"
   ]
  },
  {
   "cell_type": "code",
   "execution_count": 17,
   "id": "05ac7ea8",
   "metadata": {},
   "outputs": [],
   "source": [
    "for i in l1:\n",
    "    pass       "
   ]
  },
  {
   "cell_type": "markdown",
   "id": "b17e8e50",
   "metadata": {},
   "source": [
    "## Swapping 2 numbers\n",
    "\n"
   ]
  },
  {
   "cell_type": "code",
   "execution_count": 18,
   "id": "eaf1cc8f",
   "metadata": {},
   "outputs": [
    {
     "name": "stdout",
     "output_type": "stream",
     "text": [
      "10 5\n"
     ]
    }
   ],
   "source": [
    "num1=5\n",
    "num2=10\n",
    "\n",
    "c=num2\n",
    "num2=num1\n",
    "\n",
    "print(c,num2)"
   ]
  },
  {
   "cell_type": "markdown",
   "id": "a4b26f43",
   "metadata": {},
   "source": [
    "## Functions\n",
    "\n",
    "Block of code\n",
    "\n",
    "Organize the code\n",
    "\n",
    "I need to execute a set of code only when i need it\n",
    "\n",
    "2 main actions:\n",
    "\n",
    "1. Function defenition\n",
    "2. Function call"
   ]
  },
  {
   "cell_type": "code",
   "execution_count": 21,
   "id": "4aa55ec3",
   "metadata": {},
   "outputs": [
    {
     "name": "stdout",
     "output_type": "stream",
     "text": [
      "15\n",
      "5\n"
     ]
    }
   ],
   "source": [
    "a=5\n",
    "b=10\n",
    "c=a+b\n",
    "print(c)\n",
    "\n",
    "c=10\n",
    "d=5\n",
    "e=c-d\n",
    "print(e)"
   ]
  },
  {
   "cell_type": "markdown",
   "id": "0f99e831",
   "metadata": {},
   "source": [
    "### Syntax\n",
    "def func_name(args):"
   ]
  },
  {
   "cell_type": "code",
   "execution_count": 22,
   "id": "f03d945d",
   "metadata": {},
   "outputs": [],
   "source": [
    "def func1():\n",
    "    print('I am a good boy')"
   ]
  },
  {
   "cell_type": "code",
   "execution_count": 23,
   "id": "ac7075d6",
   "metadata": {},
   "outputs": [
    {
     "name": "stdout",
     "output_type": "stream",
     "text": [
      "I am a good boy\n"
     ]
    }
   ],
   "source": [
    "func1()"
   ]
  },
  {
   "cell_type": "code",
   "execution_count": 24,
   "id": "178e7ecd",
   "metadata": {},
   "outputs": [],
   "source": [
    "def add():\n",
    "    a=10\n",
    "    b=5\n",
    "    print(a+b)"
   ]
  },
  {
   "cell_type": "code",
   "execution_count": 25,
   "id": "54668321",
   "metadata": {},
   "outputs": [
    {
     "name": "stdout",
     "output_type": "stream",
     "text": [
      "15\n"
     ]
    }
   ],
   "source": [
    "add()"
   ]
  },
  {
   "cell_type": "markdown",
   "id": "c8d02106",
   "metadata": {},
   "source": [
    "## Arguments\n",
    "\n",
    "1. Single Argument\n",
    "2. Multiple Argument\n",
    "3. Default Argument\n",
    "4. Key value Argument"
   ]
  },
  {
   "cell_type": "code",
   "execution_count": 26,
   "id": "35a12f55",
   "metadata": {},
   "outputs": [],
   "source": [
    "def add(a,b):\n",
    "    print(a+b)"
   ]
  },
  {
   "cell_type": "code",
   "execution_count": 31,
   "id": "9323d184",
   "metadata": {},
   "outputs": [
    {
     "name": "stdout",
     "output_type": "stream",
     "text": [
      "15\n"
     ]
    }
   ],
   "source": [
    "add(10,5)"
   ]
  },
  {
   "cell_type": "code",
   "execution_count": 32,
   "id": "87d29268",
   "metadata": {},
   "outputs": [],
   "source": [
    "def out(a):\n",
    "    print(a)"
   ]
  },
  {
   "cell_type": "code",
   "execution_count": 33,
   "id": "fef17164",
   "metadata": {},
   "outputs": [
    {
     "name": "stdout",
     "output_type": "stream",
     "text": [
      "10\n"
     ]
    }
   ],
   "source": [
    "out(10)"
   ]
  },
  {
   "cell_type": "code",
   "execution_count": 34,
   "id": "725563a8",
   "metadata": {},
   "outputs": [],
   "source": [
    "def country(country='India'):\n",
    "    print('I love '+country)"
   ]
  },
  {
   "cell_type": "code",
   "execution_count": 35,
   "id": "16ccfd68",
   "metadata": {},
   "outputs": [
    {
     "name": "stdout",
     "output_type": "stream",
     "text": [
      "I love Russia\n"
     ]
    }
   ],
   "source": [
    "country('Russia')"
   ]
  },
  {
   "cell_type": "code",
   "execution_count": 36,
   "id": "eae74c4e",
   "metadata": {},
   "outputs": [
    {
     "name": "stdout",
     "output_type": "stream",
     "text": [
      "I love India\n"
     ]
    }
   ],
   "source": [
    "country()"
   ]
  },
  {
   "cell_type": "code",
   "execution_count": 42,
   "id": "743dcbea",
   "metadata": {},
   "outputs": [],
   "source": [
    "def child(child3,child2,child1):\n",
    "    print('Eldest child is '+child1)"
   ]
  },
  {
   "cell_type": "code",
   "execution_count": 45,
   "id": "7efde543",
   "metadata": {},
   "outputs": [
    {
     "name": "stdout",
     "output_type": "stream",
     "text": [
      "Eldest child is Danton\n"
     ]
    }
   ],
   "source": [
    "child(child1='Danton',child2='Shivkrish',child3='Jesuraja')"
   ]
  },
  {
   "cell_type": "markdown",
   "id": "862a2036",
   "metadata": {},
   "source": [
    "## Lambda Functions\n",
    "\n",
    "But we dont need to define it explicitly. \n",
    "\n",
    "When can I use lambda function?\n",
    "\n",
    "1. It can accept any number of arguments\n",
    "2. It can process only 1 statement\n",
    "\n",
    "Why lambda functions?\n",
    "\n",
    "Quicker than normal function"
   ]
  },
  {
   "cell_type": "code",
   "execution_count": 46,
   "id": "96561354",
   "metadata": {},
   "outputs": [],
   "source": [
    "x=lambda a,b,c:print(a+b+c)"
   ]
  },
  {
   "cell_type": "code",
   "execution_count": 47,
   "id": "281b7e5a",
   "metadata": {},
   "outputs": [
    {
     "name": "stdout",
     "output_type": "stream",
     "text": [
      "6\n"
     ]
    }
   ],
   "source": [
    "x(1,2,3)"
   ]
  },
  {
   "cell_type": "markdown",
   "id": "80d75a10",
   "metadata": {},
   "source": [
    "Practice Questions\n",
    "\n",
    "1. Get 3 numbers input from user and find the greatest of three numbers\n",
    "2. Get a number between 1-7 from user and display the corresponding day of the week. Ex 1=Sunday 2=Monday\n",
    "3. Input a number from user and check if it is a palindrome or not\n",
    "4. Input a number from user and check if it is a 3 digit number\n",
    "5. Input a string from user and count the number of vowels in the string\n",
    "6. Input a string from the user and print whether the length of the string is a prime number or not\n",
    "7. Input a string from user and check whether it is palindrome or not\n",
    "8. Input 3 sides of a triangle and check if a triangle is possible or not(Hint: Sum of 2 sides must be equal to or greater than 3rd side) Ex:2,3,4(Form) 2,3,6(Form pannadhu)\n",
    "9. Assume a list of values and find the highest number in that list (You can use l1=[23,43,58,32,94,75,68])\n",
    "\n",
    "Qn 1 \n",
    "\n",
    "1\n",
    "\n",
    "12\n",
    "\n",
    "123\n",
    "\n",
    "1234\n",
    "\n",
    "12345\n",
    "\n",
    "Hint: print(i,end=' ')\n",
    "\n",
    "Qn 2\n",
    "\n",
    "54321\n",
    "\n",
    "4321\n",
    "\n",
    "321\n",
    "\n",
    "21\n",
    "\n",
    "1\n",
    "\n",
    "Qn 3 Fibonacci series (0 1 1 2 3 5 8 13 21 34) Accept number of values from user\n",
    "\n",
    "Qn 4 Calculate the sum of all numbers from 1 to a given number Ex: If user input 5 answer should be 1+2+3+4+5 = 15\n",
    "\n",
    "Qn 5 Print all prime numbers within a range. Accept the range from user Ex: If user input 3 and 10 ans should be 3 5 7"
   ]
  },
  {
   "cell_type": "code",
   "execution_count": 2,
   "id": "ca2766a5",
   "metadata": {},
   "outputs": [
    {
     "name": "stdout",
     "output_type": "stream",
     "text": [
      "124\n",
      "Not\n"
     ]
    }
   ],
   "source": [
    "a=int(input())\n",
    "\n",
    "a=str(a)\n",
    "\n",
    "b=a[::-1]\n",
    "\n",
    "if(b==a):\n",
    "    print('Pal')\n",
    "else:\n",
    "    print('Not')"
   ]
  },
  {
   "cell_type": "code",
   "execution_count": null,
   "id": "8fa7169b",
   "metadata": {},
   "outputs": [],
   "source": []
  }
 ],
 "metadata": {
  "kernelspec": {
   "display_name": "Python 3",
   "language": "python",
   "name": "python3"
  },
  "language_info": {
   "codemirror_mode": {
    "name": "ipython",
    "version": 3
   },
   "file_extension": ".py",
   "mimetype": "text/x-python",
   "name": "python",
   "nbconvert_exporter": "python",
   "pygments_lexer": "ipython3",
   "version": "3.8.8"
  }
 },
 "nbformat": 4,
 "nbformat_minor": 5
}
