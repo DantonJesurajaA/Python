{
 "cells": [
  {
   "cell_type": "markdown",
   "id": "8734b228",
   "metadata": {},
   "source": [
    "# List\n",
    "\n",
    "List is a collection of heterogeneous elements that are mutable\n",
    "\n",
    "Heterogeneous elements - We can store elements of different datatypes\n",
    "\n",
    "Mutable - Once a list is created we can alter the values anytime"
   ]
  },
  {
   "cell_type": "code",
   "execution_count": 2,
   "id": "bd531d41",
   "metadata": {},
   "outputs": [],
   "source": [
    "l1=[1,2,3.0,'four'] #Heterogeneous"
   ]
  },
  {
   "cell_type": "code",
   "execution_count": 3,
   "id": "5de7e042",
   "metadata": {},
   "outputs": [
    {
     "data": {
      "text/plain": [
       "['One', 2, 3.0, 'four']"
      ]
     },
     "execution_count": 3,
     "metadata": {},
     "output_type": "execute_result"
    }
   ],
   "source": [
    "l1[0]='One' #Mutable\n",
    "\n",
    "l1"
   ]
  },
  {
   "cell_type": "markdown",
   "id": "4c77f888",
   "metadata": {},
   "source": [
    "## List Functions\n",
    "\n",
    "1. Append\n",
    "2. Extend\n",
    "3. Insert\n",
    "4. Delete\n",
    "5. Pop\n",
    "6. Sort\n",
    "7. Index"
   ]
  },
  {
   "cell_type": "code",
   "execution_count": 4,
   "id": "82b2be7d",
   "metadata": {},
   "outputs": [
    {
     "data": {
      "text/plain": [
       "['One', 2, 3.0, 'four']"
      ]
     },
     "execution_count": 4,
     "metadata": {},
     "output_type": "execute_result"
    }
   ],
   "source": [
    "l1"
   ]
  },
  {
   "cell_type": "code",
   "execution_count": 5,
   "id": "ab02bd26",
   "metadata": {},
   "outputs": [],
   "source": [
    "l1.append(5)"
   ]
  },
  {
   "cell_type": "code",
   "execution_count": 6,
   "id": "93226b1e",
   "metadata": {},
   "outputs": [
    {
     "data": {
      "text/plain": [
       "['One', 2, 3.0, 'four', 5]"
      ]
     },
     "execution_count": 6,
     "metadata": {},
     "output_type": "execute_result"
    }
   ],
   "source": [
    "l1"
   ]
  },
  {
   "cell_type": "code",
   "execution_count": 8,
   "id": "ea1e30e1",
   "metadata": {},
   "outputs": [],
   "source": [
    "l1.append([6,7])"
   ]
  },
  {
   "cell_type": "code",
   "execution_count": 9,
   "id": "a74093e6",
   "metadata": {},
   "outputs": [
    {
     "data": {
      "text/plain": [
       "['One', 2, 3.0, 'four', 5, [6, 7]]"
      ]
     },
     "execution_count": 9,
     "metadata": {},
     "output_type": "execute_result"
    }
   ],
   "source": [
    "l1"
   ]
  },
  {
   "cell_type": "code",
   "execution_count": 10,
   "id": "c72a3c9a",
   "metadata": {},
   "outputs": [],
   "source": [
    "l1.extend([8,9])"
   ]
  },
  {
   "cell_type": "code",
   "execution_count": 11,
   "id": "8c3721f2",
   "metadata": {},
   "outputs": [
    {
     "data": {
      "text/plain": [
       "['One', 2, 3.0, 'four', 5, [6, 7], 8, 9]"
      ]
     },
     "execution_count": 11,
     "metadata": {},
     "output_type": "execute_result"
    }
   ],
   "source": [
    "l1"
   ]
  },
  {
   "cell_type": "code",
   "execution_count": 12,
   "id": "10529fed",
   "metadata": {},
   "outputs": [],
   "source": [
    "l2=[10,11,12]\n",
    "\n",
    "l1.extend(l2)"
   ]
  },
  {
   "cell_type": "code",
   "execution_count": 13,
   "id": "76af12cd",
   "metadata": {},
   "outputs": [
    {
     "data": {
      "text/plain": [
       "['One', 2, 3.0, 'four', 5, [6, 7], 8, 9, 10, 11, 12]"
      ]
     },
     "execution_count": 13,
     "metadata": {},
     "output_type": "execute_result"
    }
   ],
   "source": [
    "l1"
   ]
  },
  {
   "cell_type": "code",
   "execution_count": 14,
   "id": "8acc2b80",
   "metadata": {},
   "outputs": [],
   "source": [
    "l1.insert(0,1)"
   ]
  },
  {
   "cell_type": "code",
   "execution_count": 15,
   "id": "c8a8c7ed",
   "metadata": {},
   "outputs": [
    {
     "data": {
      "text/plain": [
       "[1, 'One', 2, 3.0, 'four', 5, [6, 7], 8, 9, 10, 11, 12]"
      ]
     },
     "execution_count": 15,
     "metadata": {},
     "output_type": "execute_result"
    }
   ],
   "source": [
    "l1"
   ]
  },
  {
   "cell_type": "code",
   "execution_count": 16,
   "id": "b163ce47",
   "metadata": {},
   "outputs": [],
   "source": [
    "l1.insert(6,'six')"
   ]
  },
  {
   "cell_type": "code",
   "execution_count": 17,
   "id": "e8e55024",
   "metadata": {},
   "outputs": [
    {
     "data": {
      "text/plain": [
       "[1, 'One', 2, 3.0, 'four', 5, 'six', [6, 7], 8, 9, 10, 11, 12]"
      ]
     },
     "execution_count": 17,
     "metadata": {},
     "output_type": "execute_result"
    }
   ],
   "source": [
    "l1"
   ]
  },
  {
   "cell_type": "code",
   "execution_count": 18,
   "id": "e13e3216",
   "metadata": {},
   "outputs": [],
   "source": [
    "del(l1[4])"
   ]
  },
  {
   "cell_type": "code",
   "execution_count": 19,
   "id": "f037d89d",
   "metadata": {},
   "outputs": [
    {
     "data": {
      "text/plain": [
       "[1, 'One', 2, 3.0, 5, 'six', [6, 7], 8, 9, 10, 11, 12]"
      ]
     },
     "execution_count": 19,
     "metadata": {},
     "output_type": "execute_result"
    }
   ],
   "source": [
    "l1"
   ]
  },
  {
   "cell_type": "code",
   "execution_count": 27,
   "id": "943f7938",
   "metadata": {},
   "outputs": [],
   "source": [
    "del(l1)"
   ]
  },
  {
   "cell_type": "code",
   "execution_count": 29,
   "id": "c0aa2080",
   "metadata": {},
   "outputs": [],
   "source": [
    "l1=[1,2,3,4]"
   ]
  },
  {
   "cell_type": "code",
   "execution_count": 30,
   "id": "69e1e2e4",
   "metadata": {},
   "outputs": [
    {
     "data": {
      "text/plain": [
       "[1, 2, 3, 4]"
      ]
     },
     "execution_count": 30,
     "metadata": {},
     "output_type": "execute_result"
    }
   ],
   "source": [
    "l1"
   ]
  },
  {
   "cell_type": "code",
   "execution_count": 31,
   "id": "5865fe6c",
   "metadata": {},
   "outputs": [
    {
     "name": "stdout",
     "output_type": "stream",
     "text": [
      "2\n"
     ]
    }
   ],
   "source": [
    "a=l1.pop(1)\n",
    "\n",
    "print(a)"
   ]
  },
  {
   "cell_type": "code",
   "execution_count": 32,
   "id": "ed5ab596",
   "metadata": {},
   "outputs": [
    {
     "data": {
      "text/plain": [
       "[1, 3, 4]"
      ]
     },
     "execution_count": 32,
     "metadata": {},
     "output_type": "execute_result"
    }
   ],
   "source": [
    "l1"
   ]
  },
  {
   "cell_type": "code",
   "execution_count": 33,
   "id": "f9f1bf79",
   "metadata": {},
   "outputs": [
    {
     "data": {
      "text/plain": [
       "[1, 3, 4]"
      ]
     },
     "execution_count": 33,
     "metadata": {},
     "output_type": "execute_result"
    }
   ],
   "source": [
    "l1"
   ]
  },
  {
   "cell_type": "code",
   "execution_count": 35,
   "id": "a7747f20",
   "metadata": {},
   "outputs": [
    {
     "data": {
      "text/plain": [
       "1"
      ]
     },
     "execution_count": 35,
     "metadata": {},
     "output_type": "execute_result"
    }
   ],
   "source": [
    "l1.index(3)"
   ]
  },
  {
   "cell_type": "code",
   "execution_count": 36,
   "id": "8edab781",
   "metadata": {},
   "outputs": [],
   "source": [
    "l1.sort()"
   ]
  },
  {
   "cell_type": "code",
   "execution_count": 37,
   "id": "e135be31",
   "metadata": {},
   "outputs": [
    {
     "data": {
      "text/plain": [
       "[1, 3, 4]"
      ]
     },
     "execution_count": 37,
     "metadata": {},
     "output_type": "execute_result"
    }
   ],
   "source": [
    "l1"
   ]
  },
  {
   "cell_type": "code",
   "execution_count": 38,
   "id": "65dd529f",
   "metadata": {},
   "outputs": [
    {
     "data": {
      "text/plain": [
       "[11, 23, 49]"
      ]
     },
     "execution_count": 38,
     "metadata": {},
     "output_type": "execute_result"
    }
   ],
   "source": [
    "l2=[23,11,49]\n",
    "\n",
    "l2.sort()\n",
    "\n",
    "l2"
   ]
  },
  {
   "cell_type": "code",
   "execution_count": 39,
   "id": "45ac29f1",
   "metadata": {},
   "outputs": [],
   "source": [
    "l2.sort(reverse=True)"
   ]
  },
  {
   "cell_type": "code",
   "execution_count": 40,
   "id": "5d07e0db",
   "metadata": {},
   "outputs": [
    {
     "data": {
      "text/plain": [
       "[49, 23, 11]"
      ]
     },
     "execution_count": 40,
     "metadata": {},
     "output_type": "execute_result"
    }
   ],
   "source": [
    "l2"
   ]
  },
  {
   "cell_type": "code",
   "execution_count": 41,
   "id": "b2dea576",
   "metadata": {},
   "outputs": [
    {
     "data": {
      "text/plain": [
       "[2, 3, 4]"
      ]
     },
     "execution_count": 41,
     "metadata": {},
     "output_type": "execute_result"
    }
   ],
   "source": [
    "l1=[1,2,3,4,5,6,7,8]\n",
    "\n",
    "l1[1:4]"
   ]
  },
  {
   "cell_type": "markdown",
   "id": "03fa5057",
   "metadata": {},
   "source": [
    "Reverse the string"
   ]
  },
  {
   "cell_type": "code",
   "execution_count": 42,
   "id": "e98376d3",
   "metadata": {},
   "outputs": [
    {
     "data": {
      "text/plain": [
       "'notnaD'"
      ]
     },
     "execution_count": 42,
     "metadata": {},
     "output_type": "execute_result"
    }
   ],
   "source": [
    "str1='Danton'\n",
    "\n",
    "str1[::-1]"
   ]
  },
  {
   "cell_type": "markdown",
   "id": "946e397e",
   "metadata": {},
   "source": [
    "# Tuple\n",
    "\n",
    "Tuple is a collection of heterogeneous elements which are immutable\n",
    "\n",
    "()"
   ]
  },
  {
   "cell_type": "code",
   "execution_count": 43,
   "id": "fbff555c",
   "metadata": {},
   "outputs": [],
   "source": [
    "t1=(1,2,3,'four')\n",
    "\n"
   ]
  },
  {
   "cell_type": "code",
   "execution_count": 44,
   "id": "990a3b5a",
   "metadata": {},
   "outputs": [
    {
     "data": {
      "text/plain": [
       "(1, 2, 3, 'four')"
      ]
     },
     "execution_count": 44,
     "metadata": {},
     "output_type": "execute_result"
    }
   ],
   "source": [
    "t1"
   ]
  },
  {
   "cell_type": "code",
   "execution_count": 45,
   "id": "2ce0af85",
   "metadata": {},
   "outputs": [
    {
     "ename": "TypeError",
     "evalue": "'tuple' object does not support item assignment",
     "output_type": "error",
     "traceback": [
      "\u001b[1;31m---------------------------------------------------------------------------\u001b[0m",
      "\u001b[1;31mTypeError\u001b[0m                                 Traceback (most recent call last)",
      "\u001b[1;32m<ipython-input-45-f668e54d47c0>\u001b[0m in \u001b[0;36m<module>\u001b[1;34m\u001b[0m\n\u001b[1;32m----> 1\u001b[1;33m \u001b[0mt1\u001b[0m\u001b[1;33m[\u001b[0m\u001b[1;36m0\u001b[0m\u001b[1;33m]\u001b[0m\u001b[1;33m=\u001b[0m\u001b[1;34m'One'\u001b[0m\u001b[1;33m\u001b[0m\u001b[1;33m\u001b[0m\u001b[0m\n\u001b[0m",
      "\u001b[1;31mTypeError\u001b[0m: 'tuple' object does not support item assignment"
     ]
    }
   ],
   "source": [
    "t1[0]='One'"
   ]
  },
  {
   "cell_type": "markdown",
   "id": "cf713908",
   "metadata": {},
   "source": [
    "# Set\n",
    "\n",
    "Set does not allow duplictes\n",
    "\n",
    "Set does not support indexing\n",
    "\n",
    "Set is immutable"
   ]
  },
  {
   "cell_type": "code",
   "execution_count": 47,
   "id": "d6418e37",
   "metadata": {},
   "outputs": [
    {
     "data": {
      "text/plain": [
       "{1, 2, 3, 4, 5}"
      ]
     },
     "execution_count": 47,
     "metadata": {},
     "output_type": "execute_result"
    }
   ],
   "source": [
    "s1={1,2,3,4}\n",
    "\n",
    "s2={1,1,2,3,4,4,5}\n",
    "\n",
    "s2"
   ]
  },
  {
   "cell_type": "code",
   "execution_count": 48,
   "id": "619ee9d4",
   "metadata": {},
   "outputs": [
    {
     "data": {
      "text/plain": [
       "[1, 2, 3, 4, 5, 7]"
      ]
     },
     "execution_count": 48,
     "metadata": {},
     "output_type": "execute_result"
    }
   ],
   "source": [
    "l1 =[1,2,3,4,4,5,5,7,7]\n",
    "\n",
    "l2=set(l1)\n",
    "\n",
    "l1=list(l2)\n",
    "\n",
    "l1"
   ]
  },
  {
   "cell_type": "markdown",
   "id": "ca891ac4",
   "metadata": {},
   "source": [
    "# Dictionary\n",
    "\n",
    "Key value pairs\n",
    "\n",
    "Key:Value"
   ]
  },
  {
   "cell_type": "code",
   "execution_count": 49,
   "id": "caeba7c8",
   "metadata": {},
   "outputs": [
    {
     "data": {
      "text/plain": [
       "{'Name': 'Danton', 'Age': 27}"
      ]
     },
     "execution_count": 49,
     "metadata": {},
     "output_type": "execute_result"
    }
   ],
   "source": [
    "dict1={'Name':'Danton','Age':27}\n",
    "\n",
    "dict1"
   ]
  },
  {
   "cell_type": "code",
   "execution_count": 51,
   "id": "3af9047d",
   "metadata": {},
   "outputs": [
    {
     "data": {
      "text/plain": [
       "'Danton'"
      ]
     },
     "execution_count": 51,
     "metadata": {},
     "output_type": "execute_result"
    }
   ],
   "source": [
    "dict1['Name']"
   ]
  },
  {
   "cell_type": "code",
   "execution_count": 52,
   "id": "db9e8b54",
   "metadata": {},
   "outputs": [
    {
     "data": {
      "text/plain": [
       "27"
      ]
     },
     "execution_count": 52,
     "metadata": {},
     "output_type": "execute_result"
    }
   ],
   "source": [
    "dict1['Age']"
   ]
  },
  {
   "cell_type": "code",
   "execution_count": 53,
   "id": "c6f3688c",
   "metadata": {},
   "outputs": [],
   "source": [
    "dict2={'Name':'Danton',2:27}"
   ]
  },
  {
   "cell_type": "code",
   "execution_count": 54,
   "id": "0350efc4",
   "metadata": {},
   "outputs": [
    {
     "data": {
      "text/plain": [
       "{'Name': 'Danton', 2: 27}"
      ]
     },
     "execution_count": 54,
     "metadata": {},
     "output_type": "execute_result"
    }
   ],
   "source": [
    "dict2"
   ]
  },
  {
   "cell_type": "code",
   "execution_count": 55,
   "id": "e0b7cd41",
   "metadata": {},
   "outputs": [
    {
     "data": {
      "text/plain": [
       "27"
      ]
     },
     "execution_count": 55,
     "metadata": {},
     "output_type": "execute_result"
    }
   ],
   "source": [
    "dict2[2]"
   ]
  },
  {
   "cell_type": "code",
   "execution_count": 57,
   "id": "dcd49f44",
   "metadata": {},
   "outputs": [],
   "source": [
    "dict3={'Name':['Danton','Shivkrish'],(1,2):27}"
   ]
  },
  {
   "cell_type": "code",
   "execution_count": 58,
   "id": "1d624d37",
   "metadata": {},
   "outputs": [
    {
     "data": {
      "text/plain": [
       "27"
      ]
     },
     "execution_count": 58,
     "metadata": {},
     "output_type": "execute_result"
    }
   ],
   "source": [
    "dict3[(1,2)]"
   ]
  },
  {
   "cell_type": "code",
   "execution_count": 59,
   "id": "93caa1e7",
   "metadata": {},
   "outputs": [
    {
     "data": {
      "text/plain": [
       "dict_keys(['Name', 'Age'])"
      ]
     },
     "execution_count": 59,
     "metadata": {},
     "output_type": "execute_result"
    }
   ],
   "source": [
    "dict1.keys()"
   ]
  },
  {
   "cell_type": "code",
   "execution_count": 60,
   "id": "db7aea93",
   "metadata": {},
   "outputs": [
    {
     "data": {
      "text/plain": [
       "dict_values(['Danton', 27])"
      ]
     },
     "execution_count": 60,
     "metadata": {},
     "output_type": "execute_result"
    }
   ],
   "source": [
    "dict1.values()"
   ]
  },
  {
   "cell_type": "code",
   "execution_count": 64,
   "id": "e2a7f6fa",
   "metadata": {},
   "outputs": [],
   "source": [
    "items=list(dict1.items())"
   ]
  },
  {
   "cell_type": "code",
   "execution_count": 65,
   "id": "876f6e8f",
   "metadata": {},
   "outputs": [
    {
     "data": {
      "text/plain": [
       "('Name', 'Danton')"
      ]
     },
     "execution_count": 65,
     "metadata": {},
     "output_type": "execute_result"
    }
   ],
   "source": [
    "items[0]"
   ]
  },
  {
   "cell_type": "markdown",
   "id": "cddd292e",
   "metadata": {},
   "source": [
    "# Operators\n",
    "\n",
    "1. Arithmetic \n",
    "2. Assignment\n",
    "3. Comparision\n",
    "4. Logical\n",
    "5. Membership"
   ]
  },
  {
   "cell_type": "markdown",
   "id": "21b54ae2",
   "metadata": {},
   "source": [
    "## Arithmetic \n",
    "\n",
    "'+' - Addition\n",
    "\n",
    "'-' - Subtraction\n",
    "\n",
    "'*' - Multiplication\n",
    "\n",
    "/ - Division\n",
    "\n",
    "// - Floor Division\n",
    "\n",
    "% - Modulus\n",
    "\n"
   ]
  },
  {
   "cell_type": "code",
   "execution_count": 66,
   "id": "1bf01ca6",
   "metadata": {},
   "outputs": [
    {
     "name": "stdout",
     "output_type": "stream",
     "text": [
      "8\n",
      "2\n",
      "15\n",
      "1.6666666666666667\n",
      "1\n",
      "2\n"
     ]
    }
   ],
   "source": [
    "a=5\n",
    "b=3\n",
    "\n",
    "c=a+b\n",
    "\n",
    "print(c)\n",
    "\n",
    "c=a-b\n",
    "\n",
    "print(c)\n",
    "\n",
    "c=a*b\n",
    "\n",
    "print(c)\n",
    "\n",
    "c=a/b\n",
    "\n",
    "print(c)\n",
    "\n",
    "c=a//b\n",
    "\n",
    "print(c)\n",
    "\n",
    "c=a%b\n",
    "\n",
    "print(c)"
   ]
  },
  {
   "cell_type": "markdown",
   "id": "80a45d84",
   "metadata": {},
   "source": [
    "## Assignment Operators\n",
    "\n",
    "=\n",
    "\n",
    "+=\n",
    "\n",
    "-=\n",
    "\n",
    "*=\n",
    "\n",
    "/="
   ]
  },
  {
   "cell_type": "code",
   "execution_count": 67,
   "id": "cad580d8",
   "metadata": {},
   "outputs": [
    {
     "name": "stdout",
     "output_type": "stream",
     "text": [
      "5\n",
      "10\n",
      "5\n",
      "25\n",
      "5.0\n"
     ]
    }
   ],
   "source": [
    "a=5\n",
    "\n",
    "print(a)\n",
    "\n",
    "a+=5 # a=a+5\n",
    "\n",
    "print(a)\n",
    "\n",
    "a-=5 \n",
    "\n",
    "print(a)\n",
    "\n",
    "a*=5\n",
    "\n",
    "print(a)\n",
    "\n",
    "a/=5\n",
    "\n",
    "print(a)\n"
   ]
  },
  {
   "cell_type": "markdown",
   "id": "80ba453a",
   "metadata": {},
   "source": [
    "## Comparision \n",
    "\n",
    "\n",
    "==\n",
    "\n",
    "!=\n",
    "\n",
    "'>'\n",
    "\n",
    "'>='\n",
    "\n",
    "<\n",
    "\n",
    "<=\n",
    "\n"
   ]
  },
  {
   "cell_type": "code",
   "execution_count": 69,
   "id": "d45072a4",
   "metadata": {},
   "outputs": [
    {
     "name": "stdout",
     "output_type": "stream",
     "text": [
      "False\n",
      "True\n",
      "True\n"
     ]
    }
   ],
   "source": [
    "a=5\n",
    "b=3\n",
    "\n",
    "print(a==b)\n",
    "\n",
    "print(a!=b)\n",
    "\n",
    "print(a>b)"
   ]
  },
  {
   "cell_type": "markdown",
   "id": "c354931b",
   "metadata": {},
   "source": [
    "## Logical\n",
    "\n",
    "AND\n",
    "\n",
    "OR\n",
    "\n",
    "NOT"
   ]
  },
  {
   "cell_type": "code",
   "execution_count": 71,
   "id": "d9b38878",
   "metadata": {},
   "outputs": [
    {
     "data": {
      "text/plain": [
       "False"
      ]
     },
     "execution_count": 71,
     "metadata": {},
     "output_type": "execute_result"
    }
   ],
   "source": [
    "a=5\n",
    "\n",
    "b=3\n",
    "\n",
    "(a>b) and (a==b)"
   ]
  },
  {
   "cell_type": "code",
   "execution_count": 72,
   "id": "f367847f",
   "metadata": {},
   "outputs": [
    {
     "data": {
      "text/plain": [
       "True"
      ]
     },
     "execution_count": 72,
     "metadata": {},
     "output_type": "execute_result"
    }
   ],
   "source": [
    "(a>b) or (a==b)"
   ]
  },
  {
   "cell_type": "code",
   "execution_count": 73,
   "id": "6fc58dda",
   "metadata": {},
   "outputs": [
    {
     "data": {
      "text/plain": [
       "False"
      ]
     },
     "execution_count": 73,
     "metadata": {},
     "output_type": "execute_result"
    }
   ],
   "source": [
    "not (a>b)"
   ]
  },
  {
   "cell_type": "markdown",
   "id": "90e65a5b",
   "metadata": {},
   "source": [
    "## Membership\n",
    "\n",
    "IN\n",
    "\n",
    "NOT IN\n"
   ]
  },
  {
   "cell_type": "code",
   "execution_count": 75,
   "id": "638ab834",
   "metadata": {},
   "outputs": [
    {
     "data": {
      "text/plain": [
       "False"
      ]
     },
     "execution_count": 75,
     "metadata": {},
     "output_type": "execute_result"
    }
   ],
   "source": [
    "l1=[1,2,3,4,5]\n",
    "\n",
    "7 in l1"
   ]
  },
  {
   "cell_type": "code",
   "execution_count": 76,
   "id": "c2523a49",
   "metadata": {},
   "outputs": [
    {
     "data": {
      "text/plain": [
       "True"
      ]
     },
     "execution_count": 76,
     "metadata": {},
     "output_type": "execute_result"
    }
   ],
   "source": [
    "7 not in l1"
   ]
  },
  {
   "cell_type": "markdown",
   "id": "bb9415da",
   "metadata": {},
   "source": [
    "# Conditional Statements\n",
    "\n",
    "If\n",
    "\n",
    "Else\n",
    "\n",
    "Elif\n",
    "    "
   ]
  },
  {
   "cell_type": "code",
   "execution_count": 79,
   "id": "cc497f2d",
   "metadata": {},
   "outputs": [
    {
     "name": "stdout",
     "output_type": "stream",
     "text": [
      "Not eligible to vote\n"
     ]
    }
   ],
   "source": [
    "age=15\n",
    "\n",
    "if(age>=18):\n",
    "    print('Eligible to vote')\n",
    "else:\n",
    "    print('Not eligible to vote')"
   ]
  },
  {
   "cell_type": "code",
   "execution_count": 84,
   "id": "2c255ac5",
   "metadata": {},
   "outputs": [
    {
     "name": "stdout",
     "output_type": "stream",
     "text": [
      "Eligible to vote\n",
      "Eligible to Marry\n"
     ]
    }
   ],
   "source": [
    "age=23\n",
    "\n",
    "if(age>=18):\n",
    "    print('Eligible to vote')\n",
    "elif(age>=23):\n",
    "    print('Eligible to Marry')\n",
    "else:\n",
    "    print('Underage')"
   ]
  },
  {
   "cell_type": "markdown",
   "id": "9f1aba8f",
   "metadata": {},
   "source": [
    "Qns for HW\n",
    "\n",
    "Qn1: EB BILL CALCULATOR\n",
    "\n",
    "units - input from user\n",
    "\n",
    "0-100 (Free) cost=0\n",
    "\n",
    "101-200 [First 100 units free, 5rs per unit]\n",
    "\n",
    "above 200 [First 100 free, 100-200 5rs/unit 10 rs per unit]\n",
    "\n",
    "\n",
    "Ex: 23 o/p 0\n",
    "\n",
    "120 o/p 100\n",
    "\n",
    "230 o/p 500+300 =800\n",
    "\n",
    "\n",
    "Qn2: Grading System\n",
    "\n",
    "Input mark from user\n",
    "\n",
    "above 90 A\n",
    "\n",
    "80-90 B\n",
    "\n",
    "70-80 C\n",
    "\n",
    "60-70 D\n",
    "\n",
    "50-60 E\n",
    "\n",
    "<50 Fail"
   ]
  },
  {
   "cell_type": "code",
   "execution_count": null,
   "id": "0bd6b4ea",
   "metadata": {},
   "outputs": [],
   "source": []
  }
 ],
 "metadata": {
  "kernelspec": {
   "display_name": "Python 3",
   "language": "python",
   "name": "python3"
  },
  "language_info": {
   "codemirror_mode": {
    "name": "ipython",
    "version": 3
   },
   "file_extension": ".py",
   "mimetype": "text/x-python",
   "name": "python",
   "nbconvert_exporter": "python",
   "pygments_lexer": "ipython3",
   "version": "3.8.8"
  }
 },
 "nbformat": 4,
 "nbformat_minor": 5
}
