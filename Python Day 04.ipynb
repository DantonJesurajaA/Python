{
 "cells": [
  {
   "cell_type": "markdown",
   "id": "00fe16c1",
   "metadata": {},
   "source": [
    "# Class and Objects\n",
    "\n",
    "OOPS - Object Oriented Programming \n",
    "\n",
    "Object - Features and Functions\n",
    "\n",
    "Ex Mobile\n",
    "\n",
    "1000+ models\n",
    "\n",
    "Camera, Processor, Storage, Battery"
   ]
  },
  {
   "cell_type": "code",
   "execution_count": 1,
   "id": "15702822",
   "metadata": {},
   "outputs": [],
   "source": [
    "class Mobile:\n",
    "    def __init__(self,Cam,Pro,Stg,Bat):\n",
    "        self.Cam=Cam\n",
    "        self.Pro=Pro\n",
    "        self.Stg=Stg\n",
    "        self.Bat=Bat"
   ]
  },
  {
   "cell_type": "code",
   "execution_count": 10,
   "id": "285e52e7",
   "metadata": {},
   "outputs": [],
   "source": [
    "i15=Mobile(50,['A17','A15'],256,4000)"
   ]
  },
  {
   "cell_type": "code",
   "execution_count": 3,
   "id": "3ca6974c",
   "metadata": {},
   "outputs": [
    {
     "data": {
      "text/plain": [
       "4000"
      ]
     },
     "execution_count": 3,
     "metadata": {},
     "output_type": "execute_result"
    }
   ],
   "source": [
    "i15.Bat"
   ]
  },
  {
   "cell_type": "code",
   "execution_count": 11,
   "id": "ba8fd6c1",
   "metadata": {},
   "outputs": [
    {
     "data": {
      "text/plain": [
       "['A17', 'A15']"
      ]
     },
     "execution_count": 11,
     "metadata": {},
     "output_type": "execute_result"
    }
   ],
   "source": [
    "i15.Pro"
   ]
  },
  {
   "cell_type": "code",
   "execution_count": 5,
   "id": "bf91c16c",
   "metadata": {},
   "outputs": [
    {
     "name": "stdout",
     "output_type": "stream",
     "text": [
      "<class 'list'>\n"
     ]
    }
   ],
   "source": [
    "l1=[1,2,3]\n",
    "\n",
    "print(type(l1))"
   ]
  },
  {
   "cell_type": "code",
   "execution_count": 6,
   "id": "ca3d1be1",
   "metadata": {},
   "outputs": [
    {
     "name": "stdout",
     "output_type": "stream",
     "text": [
      "5\n"
     ]
    }
   ],
   "source": [
    "a=5\n",
    "print(a)"
   ]
  },
  {
   "cell_type": "code",
   "execution_count": 9,
   "id": "4cf2dd4f",
   "metadata": {},
   "outputs": [
    {
     "ename": "TypeError",
     "evalue": "int() can't convert non-string with explicit base",
     "output_type": "error",
     "traceback": [
      "\u001b[1;31m---------------------------------------------------------------------------\u001b[0m",
      "\u001b[1;31mTypeError\u001b[0m                                 Traceback (most recent call last)",
      "\u001b[1;32m<ipython-input-9-b6a7e1299cfa>\u001b[0m in \u001b[0;36m<module>\u001b[1;34m\u001b[0m\n\u001b[1;32m----> 1\u001b[1;33m \u001b[0ma\u001b[0m\u001b[1;33m=\u001b[0m\u001b[0mint\u001b[0m\u001b[1;33m(\u001b[0m\u001b[1;36m5\u001b[0m\u001b[1;33m,\u001b[0m\u001b[1;36m2\u001b[0m\u001b[1;33m)\u001b[0m\u001b[1;33m\u001b[0m\u001b[1;33m\u001b[0m\u001b[0m\n\u001b[0m\u001b[0;32m      2\u001b[0m \u001b[0mprint\u001b[0m\u001b[1;33m(\u001b[0m\u001b[0ma\u001b[0m\u001b[1;33m)\u001b[0m\u001b[1;33m\u001b[0m\u001b[1;33m\u001b[0m\u001b[0m\n",
      "\u001b[1;31mTypeError\u001b[0m: int() can't convert non-string with explicit base"
     ]
    }
   ],
   "source": [
    "a=int(5,2)\n",
    "print(a)"
   ]
  },
  {
   "cell_type": "markdown",
   "id": "df43be3a",
   "metadata": {},
   "source": [
    "## Features of OOPS Concepts\n",
    "\n",
    "1. Inheritence\n",
    "2. Polymorphism\n",
    "3. Encapsulation"
   ]
  },
  {
   "cell_type": "markdown",
   "id": "661afda8",
   "metadata": {},
   "source": [
    "## Inheritence\n",
    "\n"
   ]
  },
  {
   "cell_type": "code",
   "execution_count": 14,
   "id": "3480f7c5",
   "metadata": {},
   "outputs": [],
   "source": [
    "class Parent:\n",
    "    def firstfunc(self):\n",
    "        print('First Function')\n",
    "    def secfunc(self):\n",
    "        print('Second Function')\n",
    "class Child(Parent):\n",
    "    def thirdfunc(self):\n",
    "        print('Third Function')\n",
    "    def fourthfunc(self):\n",
    "        print('Fourth Function')\n"
   ]
  },
  {
   "cell_type": "code",
   "execution_count": 15,
   "id": "00945759",
   "metadata": {},
   "outputs": [],
   "source": [
    "p1=Parent()\n",
    "c1=Child()"
   ]
  },
  {
   "cell_type": "markdown",
   "id": "dc2e7f26",
   "metadata": {},
   "source": [
    "1. Multilevel \n",
    "2. Multiple"
   ]
  },
  {
   "cell_type": "markdown",
   "id": "36fba565",
   "metadata": {},
   "source": [
    "## Multilevel Inheritence"
   ]
  },
  {
   "cell_type": "code",
   "execution_count": 20,
   "id": "7424268c",
   "metadata": {},
   "outputs": [],
   "source": [
    "class Parent:\n",
    "    def firstfunc(self):\n",
    "        print('First Function')\n",
    "    def secfunc(self):\n",
    "        print('Second Function')\n",
    "class Child(Parent):\n",
    "    def thirdfunc(self):\n",
    "        print('Third Function')\n",
    "    def fourthfunc(self):\n",
    "        print('Fourth Function')\n",
    "class Grandchild(Child):\n",
    "    def fifthfunc(self):\n",
    "        print('Fifth Function')\n",
    "    def sixthfunc(self):\n",
    "        print('Sixth Function')\n"
   ]
  },
  {
   "cell_type": "code",
   "execution_count": 21,
   "id": "42839d7c",
   "metadata": {},
   "outputs": [],
   "source": [
    "gc1=Grandchild()"
   ]
  },
  {
   "cell_type": "code",
   "execution_count": 22,
   "id": "44554e9f",
   "metadata": {},
   "outputs": [
    {
     "data": {
      "text/plain": [
       "<bound method Grandchild.fifthfunc of <__main__.Grandchild object at 0x0000025E1D8C6490>>"
      ]
     },
     "execution_count": 22,
     "metadata": {},
     "output_type": "execute_result"
    }
   ],
   "source": [
    "gc1.fifthfunc"
   ]
  },
  {
   "cell_type": "markdown",
   "id": "11315191",
   "metadata": {},
   "source": [
    "## Multiple Inheritence"
   ]
  },
  {
   "cell_type": "code",
   "execution_count": 31,
   "id": "d5253ea1",
   "metadata": {},
   "outputs": [],
   "source": [
    "class parent1:\n",
    "    def firstfunc(self):\n",
    "        print('First Function')\n",
    "    def secfunc(self):\n",
    "        print('Second Function')\n",
    "class parent2:\n",
    "    def thirdfunc(self):\n",
    "        print('Third Function')\n",
    "    def fourthfunc(self):\n",
    "        print('Fourth Function')\n",
    "class child(parent1,parent2):\n",
    "    def fifthfunc(self):\n",
    "        print('Fifth Function')\n",
    "    def sixthfunc(self):\n",
    "        print('Sixth Function')"
   ]
  },
  {
   "cell_type": "code",
   "execution_count": 32,
   "id": "77eb324a",
   "metadata": {},
   "outputs": [],
   "source": [
    "p1=parent1()\n",
    "p2=parent2()\n",
    "c1=child()"
   ]
  },
  {
   "cell_type": "code",
   "execution_count": 33,
   "id": "d375d99e",
   "metadata": {},
   "outputs": [
    {
     "ename": "SyntaxError",
     "evalue": "invalid syntax (<ipython-input-33-8a559452f60e>, line 1)",
     "output_type": "error",
     "traceback": [
      "\u001b[1;36m  File \u001b[1;32m\"<ipython-input-33-8a559452f60e>\"\u001b[1;36m, line \u001b[1;32m1\u001b[0m\n\u001b[1;33m    c1.\u001b[0m\n\u001b[1;37m       ^\u001b[0m\n\u001b[1;31mSyntaxError\u001b[0m\u001b[1;31m:\u001b[0m invalid syntax\n"
     ]
    }
   ],
   "source": [
    "c1."
   ]
  },
  {
   "cell_type": "markdown",
   "id": "2249b209",
   "metadata": {},
   "source": [
    "## Polymorphism\n",
    "\n",
    "Poly -Many\n",
    "\n",
    "Morph - Forms\n",
    "\n",
    "One function many forms/ different uses"
   ]
  },
  {
   "cell_type": "markdown",
   "id": "80d8fd14",
   "metadata": {},
   "source": [
    "## Function Polymorphism"
   ]
  },
  {
   "cell_type": "code",
   "execution_count": 34,
   "id": "4bb29736",
   "metadata": {},
   "outputs": [
    {
     "name": "stdout",
     "output_type": "stream",
     "text": [
      "5\n",
      "9\n"
     ]
    }
   ],
   "source": [
    "l1=[1,2,3,4,5]\n",
    "str1='1,2,3,4,5'\n",
    "\n",
    "print(len(l1))\n",
    "print(len(str1))"
   ]
  },
  {
   "cell_type": "markdown",
   "id": "93c938d3",
   "metadata": {},
   "source": [
    "## Class Polymorphism"
   ]
  },
  {
   "cell_type": "code",
   "execution_count": 35,
   "id": "022fbcdb",
   "metadata": {},
   "outputs": [],
   "source": [
    "class car:\n",
    "    def move(self):\n",
    "        print('Ride')\n",
    "class boat:\n",
    "    def move(self):\n",
    "        print('Sail')\n",
    "class plane:\n",
    "    def move(self):\n",
    "        print('Fly')"
   ]
  },
  {
   "cell_type": "code",
   "execution_count": 36,
   "id": "4dc10dad",
   "metadata": {},
   "outputs": [],
   "source": [
    "c1=car()\n",
    "b1=boat()\n",
    "p1=plane()"
   ]
  },
  {
   "cell_type": "code",
   "execution_count": 37,
   "id": "e536a73f",
   "metadata": {},
   "outputs": [
    {
     "name": "stdout",
     "output_type": "stream",
     "text": [
      "Ride\n"
     ]
    }
   ],
   "source": [
    "c1.move()"
   ]
  },
  {
   "cell_type": "code",
   "execution_count": 38,
   "id": "d9328037",
   "metadata": {},
   "outputs": [
    {
     "name": "stdout",
     "output_type": "stream",
     "text": [
      "Sail\n"
     ]
    }
   ],
   "source": [
    "b1.move()"
   ]
  },
  {
   "cell_type": "code",
   "execution_count": 39,
   "id": "9bf4ac08",
   "metadata": {},
   "outputs": [
    {
     "name": "stdout",
     "output_type": "stream",
     "text": [
      "Fly\n"
     ]
    }
   ],
   "source": [
    "p1.move()"
   ]
  },
  {
   "cell_type": "markdown",
   "id": "f14ca28e",
   "metadata": {},
   "source": [
    "## Encapsulation\n",
    "\n",
    "Showing necessary details and hiding unnecessary details"
   ]
  },
  {
   "cell_type": "code",
   "execution_count": 48,
   "id": "a4aed5a1",
   "metadata": {},
   "outputs": [
    {
     "name": "stdout",
     "output_type": "stream",
     "text": [
      "11\n",
      "5\n"
     ]
    }
   ],
   "source": [
    "def func1():\n",
    "    \n",
    "    num1=5\n",
    "    num2=6\n",
    "    print(num1+num2)\n",
    "func1()\n",
    "print(num1)"
   ]
  },
  {
   "cell_type": "code",
   "execution_count": 41,
   "id": "87b679af",
   "metadata": {},
   "outputs": [
    {
     "name": "stdout",
     "output_type": "stream",
     "text": [
      "5\n"
     ]
    }
   ],
   "source": [
    "func1()"
   ]
  },
  {
   "cell_type": "code",
   "execution_count": 50,
   "id": "2b8eeeea",
   "metadata": {},
   "outputs": [
    {
     "name": "stdout",
     "output_type": "stream",
     "text": [
      "30\n"
     ]
    },
    {
     "ename": "NameError",
     "evalue": "name 'num3' is not defined",
     "output_type": "error",
     "traceback": [
      "\u001b[1;31m---------------------------------------------------------------------------\u001b[0m",
      "\u001b[1;31mNameError\u001b[0m                                 Traceback (most recent call last)",
      "\u001b[1;32m<ipython-input-50-ab870871adf2>\u001b[0m in \u001b[0;36m<module>\u001b[1;34m\u001b[0m\n\u001b[0;32m      4\u001b[0m     \u001b[0mprint\u001b[0m\u001b[1;33m(\u001b[0m\u001b[0mnum3\u001b[0m\u001b[1;33m+\u001b[0m\u001b[0mnum4\u001b[0m\u001b[1;33m)\u001b[0m\u001b[1;33m\u001b[0m\u001b[1;33m\u001b[0m\u001b[0m\n\u001b[0;32m      5\u001b[0m \u001b[0mfunc2\u001b[0m\u001b[1;33m(\u001b[0m\u001b[1;33m)\u001b[0m\u001b[1;33m\u001b[0m\u001b[1;33m\u001b[0m\u001b[0m\n\u001b[1;32m----> 6\u001b[1;33m \u001b[0mprint\u001b[0m\u001b[1;33m(\u001b[0m\u001b[0mnum3\u001b[0m\u001b[1;33m)\u001b[0m\u001b[1;33m\u001b[0m\u001b[1;33m\u001b[0m\u001b[0m\n\u001b[0m",
      "\u001b[1;31mNameError\u001b[0m: name 'num3' is not defined"
     ]
    }
   ],
   "source": [
    "def func2():\n",
    "    num3=10\n",
    "    num4=20\n",
    "    print(num3+num4)\n",
    "func2()\n",
    "print(num3)"
   ]
  },
  {
   "cell_type": "code",
   "execution_count": null,
   "id": "13fddca4",
   "metadata": {},
   "outputs": [],
   "source": []
  }
 ],
 "metadata": {
  "kernelspec": {
   "display_name": "Python 3",
   "language": "python",
   "name": "python3"
  },
  "language_info": {
   "codemirror_mode": {
    "name": "ipython",
    "version": 3
   },
   "file_extension": ".py",
   "mimetype": "text/x-python",
   "name": "python",
   "nbconvert_exporter": "python",
   "pygments_lexer": "ipython3",
   "version": "3.8.8"
  }
 },
 "nbformat": 4,
 "nbformat_minor": 5
}
